{
 "cells": [
  {
   "cell_type": "markdown",
   "metadata": {},
   "source": [
    "### 1. Defining Objective\n",
    "- In this recommendation system, content-based similarity filtering based on the course tags which the users either watch or search is being used. \n",
    "\n",
    "- The dfset used is of the [Courses dataset](https://www.kaggle.com/khusheekapoor/coursera-courses-dfset-2021) which contains over 3,000 courses!\n",
    "\n",
    "Another approach can be collabrative filtering, which is not used in this notebook. An advance approach can be using both these approach in a hybrid mode.,"
   ]
  },
  {
   "cell_type": "code",
   "execution_count": 1,
   "metadata": {},
   "outputs": [],
   "source": [
    "import os\n",
    "import numpy as np\n",
    "import pandas as pd\n",
    "import matplotlib.pyplot as plt\n",
    "import seaborn as sns\n",
    "import warnings\n",
    "from sklearn.feature_extraction.text import CountVectorizer\n",
    "import nltk \n",
    "from nltk.stem.porter import PorterStemmer\n",
    "from sklearn.metrics.pairwise import cosine_similarity\n",
    "import pickle\n",
    "warnings.filterwarnings('ignore')"
   ]
  },
  {
   "cell_type": "markdown",
   "metadata": {},
   "source": [
    "### 2. data Collection"
   ]
  },
  {
   "cell_type": "code",
   "execution_count": 3,
   "metadata": {},
   "outputs": [
    {
     "data": {
      "text/html": [
       "<div>\n",
       "<style scoped>\n",
       "    .dataframe tbody tr th:only-of-type {\n",
       "        vertical-align: middle;\n",
       "    }\n",
       "\n",
       "    .dataframe tbody tr th {\n",
       "        vertical-align: top;\n",
       "    }\n",
       "\n",
       "    .dataframe thead th {\n",
       "        text-align: right;\n",
       "    }\n",
       "</style>\n",
       "<table border=\"1\" class=\"dataframe\">\n",
       "  <thead>\n",
       "    <tr style=\"text-align: right;\">\n",
       "      <th></th>\n",
       "      <th>Course Name</th>\n",
       "      <th>University</th>\n",
       "      <th>Difficulty Level</th>\n",
       "      <th>Course Rating</th>\n",
       "      <th>Course URL</th>\n",
       "      <th>Course Description</th>\n",
       "      <th>Skills</th>\n",
       "    </tr>\n",
       "  </thead>\n",
       "  <tbody>\n",
       "    <tr>\n",
       "      <th>0</th>\n",
       "      <td>Write A Feature Length Screenplay For Film Or ...</td>\n",
       "      <td>Michigan State University</td>\n",
       "      <td>Beginner</td>\n",
       "      <td>4.8</td>\n",
       "      <td>https://www.coursera.org/learn/write-a-feature...</td>\n",
       "      <td>Write a Full Length Feature Film Script  In th...</td>\n",
       "      <td>Drama  Comedy  peering  screenwriting  film  D...</td>\n",
       "    </tr>\n",
       "    <tr>\n",
       "      <th>1</th>\n",
       "      <td>Business Strategy: Business Model Canvas Analy...</td>\n",
       "      <td>Coursera Project Network</td>\n",
       "      <td>Beginner</td>\n",
       "      <td>4.8</td>\n",
       "      <td>https://www.coursera.org/learn/canvas-analysis...</td>\n",
       "      <td>By the end of this guided project, you will be...</td>\n",
       "      <td>Finance  business plan  persona (user experien...</td>\n",
       "    </tr>\n",
       "    <tr>\n",
       "      <th>2</th>\n",
       "      <td>Silicon Thin Film Solar Cells</td>\n",
       "      <td>�cole Polytechnique</td>\n",
       "      <td>Advanced</td>\n",
       "      <td>4.1</td>\n",
       "      <td>https://www.coursera.org/learn/silicon-thin-fi...</td>\n",
       "      <td>This course consists of a general presentation...</td>\n",
       "      <td>chemistry  physics  Solar Energy  film  lambda...</td>\n",
       "    </tr>\n",
       "    <tr>\n",
       "      <th>3</th>\n",
       "      <td>Finance for Managers</td>\n",
       "      <td>IESE Business School</td>\n",
       "      <td>Intermediate</td>\n",
       "      <td>4.8</td>\n",
       "      <td>https://www.coursera.org/learn/operational-fin...</td>\n",
       "      <td>When it comes to numbers, there is always more...</td>\n",
       "      <td>accounts receivable  dupont analysis  analysis...</td>\n",
       "    </tr>\n",
       "    <tr>\n",
       "      <th>4</th>\n",
       "      <td>Retrieve Data using Single-Table SQL Queries</td>\n",
       "      <td>Coursera Project Network</td>\n",
       "      <td>Beginner</td>\n",
       "      <td>4.6</td>\n",
       "      <td>https://www.coursera.org/learn/single-table-sq...</td>\n",
       "      <td>In this course you�ll learn how to effectively...</td>\n",
       "      <td>Data Analysis  select (sql)  database manageme...</td>\n",
       "    </tr>\n",
       "  </tbody>\n",
       "</table>\n",
       "</div>"
      ],
      "text/plain": [
       "                                         Course Name  \\\n",
       "0  Write A Feature Length Screenplay For Film Or ...   \n",
       "1  Business Strategy: Business Model Canvas Analy...   \n",
       "2                      Silicon Thin Film Solar Cells   \n",
       "3                               Finance for Managers   \n",
       "4       Retrieve Data using Single-Table SQL Queries   \n",
       "\n",
       "                  University Difficulty Level Course Rating  \\\n",
       "0  Michigan State University         Beginner           4.8   \n",
       "1   Coursera Project Network         Beginner           4.8   \n",
       "2        �cole Polytechnique         Advanced           4.1   \n",
       "3       IESE Business School     Intermediate           4.8   \n",
       "4   Coursera Project Network         Beginner           4.6   \n",
       "\n",
       "                                          Course URL  \\\n",
       "0  https://www.coursera.org/learn/write-a-feature...   \n",
       "1  https://www.coursera.org/learn/canvas-analysis...   \n",
       "2  https://www.coursera.org/learn/silicon-thin-fi...   \n",
       "3  https://www.coursera.org/learn/operational-fin...   \n",
       "4  https://www.coursera.org/learn/single-table-sq...   \n",
       "\n",
       "                                  Course Description  \\\n",
       "0  Write a Full Length Feature Film Script  In th...   \n",
       "1  By the end of this guided project, you will be...   \n",
       "2  This course consists of a general presentation...   \n",
       "3  When it comes to numbers, there is always more...   \n",
       "4  In this course you�ll learn how to effectively...   \n",
       "\n",
       "                                              Skills  \n",
       "0  Drama  Comedy  peering  screenwriting  film  D...  \n",
       "1  Finance  business plan  persona (user experien...  \n",
       "2  chemistry  physics  Solar Energy  film  lambda...  \n",
       "3  accounts receivable  dupont analysis  analysis...  \n",
       "4  Data Analysis  select (sql)  database manageme...  "
      ]
     },
     "execution_count": 3,
     "metadata": {},
     "output_type": "execute_result"
    }
   ],
   "source": [
    "df = pd.read_csv(\"Datastore/Reocords.csv\")\n",
    "df.head(5)"
   ]
  },
  {
   "cell_type": "markdown",
   "metadata": {},
   "source": [
    "### 3. Data Pre-processing"
   ]
  },
  {
   "cell_type": "code",
   "execution_count": 4,
   "metadata": {},
   "outputs": [
    {
     "data": {
      "text/plain": [
       "(3522, 7)"
      ]
     },
     "execution_count": 4,
     "metadata": {},
     "output_type": "execute_result"
    }
   ],
   "source": [
    "df.shape"
   ]
  },
  {
   "cell_type": "code",
   "execution_count": 5,
   "metadata": {},
   "outputs": [
    {
     "name": "stdout",
     "output_type": "stream",
     "text": [
      "<class 'pandas.core.frame.DataFrame'>\n",
      "RangeIndex: 3522 entries, 0 to 3521\n",
      "Data columns (total 7 columns):\n",
      " #   Column              Non-Null Count  Dtype \n",
      "---  ------              --------------  ----- \n",
      " 0   Course Name         3522 non-null   object\n",
      " 1   University          3522 non-null   object\n",
      " 2   Difficulty Level    3522 non-null   object\n",
      " 3   Course Rating       3522 non-null   object\n",
      " 4   Course URL          3522 non-null   object\n",
      " 5   Course Description  3522 non-null   object\n",
      " 6   Skills              3522 non-null   object\n",
      "dtypes: object(7)\n",
      "memory usage: 192.7+ KB\n"
     ]
    }
   ],
   "source": [
    "df.info()"
   ]
  },
  {
   "cell_type": "code",
   "execution_count": 6,
   "metadata": {},
   "outputs": [
    {
     "data": {
      "text/plain": [
       "Course Name           0\n",
       "University            0\n",
       "Difficulty Level      0\n",
       "Course Rating         0\n",
       "Course URL            0\n",
       "Course Description    0\n",
       "Skills                0\n",
       "dtype: int64"
      ]
     },
     "execution_count": 6,
     "metadata": {},
     "output_type": "execute_result"
    }
   ],
   "source": [
    "df.isnull().sum() "
   ]
  },
  {
   "cell_type": "code",
   "execution_count": 7,
   "metadata": {
    "scrolled": true
   },
   "outputs": [
    {
     "name": "stdout",
     "output_type": "stream",
     "text": [
      "--------column 0----------\n",
      "Course Name\n",
      "Google Cloud Platform Fundamentals: Core Infrastructure    8\n",
      "Introduction to Artificial Intelligence (AI)               4\n",
      "Python for Data Science and AI                             4\n",
      "The Art of Music Production                                4\n",
      "What is Data Science?                                      4\n",
      "                                                          ..\n",
      "Technical Support Fundamentals                             1\n",
      "Understanding the Music Business: What is Music Worth?     1\n",
      "Gut Check: Exploring Your Microbiome                       1\n",
      "Managerial Accounting Fundamentals                         1\n",
      "Architecting with Google Kubernetes Engine: Production     1\n",
      "Name: count, Length: 3416, dtype: int64\n",
      "--------column 1----------\n",
      "University\n",
      "Coursera Project Network                      562\n",
      "University of Illinois at Urbana-Champaign    138\n",
      "Johns Hopkins University                      110\n",
      "University of Michigan                        101\n",
      "University of Colorado Boulder                101\n",
      "                                             ... \n",
      "GitLab                                          1\n",
      "Yeshiva University                              1\n",
      "University of Glasgow                           1\n",
      "Laureate Education                              1\n",
      "The World Bank Group                            1\n",
      "Name: count, Length: 184, dtype: int64\n",
      "--------column 2----------\n",
      "Difficulty Level\n",
      "Beginner          1444\n",
      "Advanced          1005\n",
      "Intermediate       837\n",
      "Conversant         186\n",
      "Not Calibrated      50\n",
      "Name: count, dtype: int64\n",
      "--------column 3----------\n",
      "Course Rating\n",
      "4.7               740\n",
      "4.6               623\n",
      "4.8               598\n",
      "4.5               389\n",
      "4.4               242\n",
      "4.9               180\n",
      "4.3               165\n",
      "4.2               121\n",
      "5                  90\n",
      "4.1                85\n",
      "Not Calibrated     82\n",
      "4                  51\n",
      "3.8                24\n",
      "3.9                20\n",
      "3.6                18\n",
      "3.7                18\n",
      "3.5                17\n",
      "3.4                13\n",
      "3                  12\n",
      "3.2                 9\n",
      "3.3                 6\n",
      "2.9                 6\n",
      "2.6                 2\n",
      "2.8                 2\n",
      "2.4                 2\n",
      "1                   2\n",
      "2                   1\n",
      "3.1                 1\n",
      "2.5                 1\n",
      "1.9                 1\n",
      "2.3                 1\n",
      "Name: count, dtype: int64\n",
      "--------column 4----------\n",
      "Course URL\n",
      "https://www.coursera.org/learn/gcp-fundamentals                                        8\n",
      "https://www.coursera.org/learn/producing-music                                         4\n",
      "https://www.coursera.org/learn/python-for-applied-data-science-ai                      4\n",
      "https://www.coursera.org/learn/what-is-datascience                                     4\n",
      "https://www.coursera.org/learn/introduction-to-ai                                      4\n",
      "                                                                                      ..\n",
      "https://www.coursera.org/learn/musicbiz                                                1\n",
      "https://www.coursera.org/learn/microbiome                                              1\n",
      "https://www.coursera.org/learn/uva-darden-managerial-accounting                        1\n",
      "https://www.coursera.org/learn/datavisualization                                       1\n",
      "https://www.coursera.org/learn/deploying-secure-kubernetes-containers-in-production    1\n",
      "Name: count, Length: 3424, dtype: int64\n"
     ]
    }
   ],
   "source": [
    "for index,i in enumerate(df.columns):\n",
    "    if i != 'Course Description' and i != 'Skills':\n",
    "        print(f'--------column {index}----------')\n",
    "        print(df[i].value_counts())\n",
    "    "
   ]
  },
  {
   "cell_type": "markdown",
   "metadata": {},
   "source": [
    "#### Features to be used: \n",
    "\n",
    "- Course Name : Names of the courses\n",
    "- Course Description : Similar courses may have similar course description\n",
    "- Skills : Users may want to see courses based on same skills\n",
    "- Difficulty Level : Similar courses as per difficulty level \n",
    "\n",
    "#### Features not used for the recommendation system :\n",
    "\n",
    "- Course Ratings : Numerical Column; Ratings can sometimes become a biased factor and distribution is not even\n",
    "- University : Same university might offer multiple courses in different domains which the user might not want to see\n",
    "- Course URL : No significance in the recommendation system"
   ]
  },
  {
   "cell_type": "code",
   "execution_count": 8,
   "metadata": {},
   "outputs": [],
   "source": [
    "df = df[['Course Name','Difficulty Level','Course Description','Skills']]"
   ]
  },
  {
   "cell_type": "code",
   "execution_count": 9,
   "metadata": {},
   "outputs": [],
   "source": [
    "df.loc[:, 'Course Name'] = df['Course Name'].str.replace(' ',',')\n",
    "df.loc[:, 'Course Name'] = df['Course Name'].str.replace(',,',',')\n",
    "df.loc[:, 'Course Name'] = df['Course Name'].str.replace(':','')\n",
    "\n",
    "df.loc[:, 'Course Description'] = df['Course Description'].str.replace(' ',',')\n",
    "df.loc[:, 'Course Description'] = df['Course Description'].str.replace(',,',',')\n",
    "df.loc[:, 'Course Description'] = df['Course Description'].str.replace('_','')\n",
    "df.loc[:, 'Course Description'] = df['Course Description'].str.replace(':','')\n",
    "df.loc[:, 'Course Description'] = df['Course Description'].str.replace('(','')\n",
    "df.loc[:, 'Course Description'] = df['Course Description'].str.replace(')','')\n",
    "\n",
    "# Removing parentheses from the 'Skills' column\n",
    "df.loc[:, 'Skills'] = df['Skills'].str.replace('(','')\n",
    "df.loc[:, 'Skills'] = df['Skills'].str.replace(')','')\n"
   ]
  },
  {
   "cell_type": "code",
   "execution_count": 10,
   "metadata": {},
   "outputs": [
    {
     "data": {
      "text/html": [
       "<div>\n",
       "<style scoped>\n",
       "    .dataframe tbody tr th:only-of-type {\n",
       "        vertical-align: middle;\n",
       "    }\n",
       "\n",
       "    .dataframe tbody tr th {\n",
       "        vertical-align: top;\n",
       "    }\n",
       "\n",
       "    .dataframe thead th {\n",
       "        text-align: right;\n",
       "    }\n",
       "</style>\n",
       "<table border=\"1\" class=\"dataframe\">\n",
       "  <thead>\n",
       "    <tr style=\"text-align: right;\">\n",
       "      <th></th>\n",
       "      <th>Course Name</th>\n",
       "      <th>Difficulty Level</th>\n",
       "      <th>Course Description</th>\n",
       "      <th>Skills</th>\n",
       "    </tr>\n",
       "  </thead>\n",
       "  <tbody>\n",
       "    <tr>\n",
       "      <th>0</th>\n",
       "      <td>Write,A,Feature,Length,Screenplay,For,Film,Or,...</td>\n",
       "      <td>Beginner</td>\n",
       "      <td>Write,a,Full,Length,Feature,Film,Script,In,thi...</td>\n",
       "      <td>Drama  Comedy  peering  screenwriting  film  D...</td>\n",
       "    </tr>\n",
       "    <tr>\n",
       "      <th>1</th>\n",
       "      <td>Business,Strategy,Business,Model,Canvas,Analys...</td>\n",
       "      <td>Beginner</td>\n",
       "      <td>By,the,end,of,this,guided,project,you,will,be,...</td>\n",
       "      <td>Finance  business plan  persona user experienc...</td>\n",
       "    </tr>\n",
       "    <tr>\n",
       "      <th>2</th>\n",
       "      <td>Silicon,Thin,Film,Solar,Cells</td>\n",
       "      <td>Advanced</td>\n",
       "      <td>This,course,consists,of,a,general,presentation...</td>\n",
       "      <td>chemistry  physics  Solar Energy  film  lambda...</td>\n",
       "    </tr>\n",
       "    <tr>\n",
       "      <th>3</th>\n",
       "      <td>Finance,for,Managers</td>\n",
       "      <td>Intermediate</td>\n",
       "      <td>When,it,comes,to,numbers,there,is,always,more,...</td>\n",
       "      <td>accounts receivable  dupont analysis  analysis...</td>\n",
       "    </tr>\n",
       "    <tr>\n",
       "      <th>4</th>\n",
       "      <td>Retrieve,Data,using,Single-Table,SQL,Queries</td>\n",
       "      <td>Beginner</td>\n",
       "      <td>In,this,course,you�ll,learn,how,to,effectively...</td>\n",
       "      <td>Data Analysis  select sql  database management...</td>\n",
       "    </tr>\n",
       "  </tbody>\n",
       "</table>\n",
       "</div>"
      ],
      "text/plain": [
       "                                         Course Name Difficulty Level  \\\n",
       "0  Write,A,Feature,Length,Screenplay,For,Film,Or,...         Beginner   \n",
       "1  Business,Strategy,Business,Model,Canvas,Analys...         Beginner   \n",
       "2                      Silicon,Thin,Film,Solar,Cells         Advanced   \n",
       "3                               Finance,for,Managers     Intermediate   \n",
       "4       Retrieve,Data,using,Single-Table,SQL,Queries         Beginner   \n",
       "\n",
       "                                  Course Description  \\\n",
       "0  Write,a,Full,Length,Feature,Film,Script,In,thi...   \n",
       "1  By,the,end,of,this,guided,project,you,will,be,...   \n",
       "2  This,course,consists,of,a,general,presentation...   \n",
       "3  When,it,comes,to,numbers,there,is,always,more,...   \n",
       "4  In,this,course,you�ll,learn,how,to,effectively...   \n",
       "\n",
       "                                              Skills  \n",
       "0  Drama  Comedy  peering  screenwriting  film  D...  \n",
       "1  Finance  business plan  persona user experienc...  \n",
       "2  chemistry  physics  Solar Energy  film  lambda...  \n",
       "3  accounts receivable  dupont analysis  analysis...  \n",
       "4  Data Analysis  select sql  database management...  "
      ]
     },
     "execution_count": 10,
     "metadata": {},
     "output_type": "execute_result"
    }
   ],
   "source": [
    "df.head()"
   ]
  },
  {
   "cell_type": "code",
   "execution_count": 11,
   "metadata": {},
   "outputs": [],
   "source": [
    "df['tags'] = df['Course Name'] + df['Difficulty Level'] + df['Course Description'] + df['Skills']"
   ]
  },
  {
   "cell_type": "code",
   "execution_count": 12,
   "metadata": {},
   "outputs": [
    {
     "data": {
      "text/html": [
       "<div>\n",
       "<style scoped>\n",
       "    .dataframe tbody tr th:only-of-type {\n",
       "        vertical-align: middle;\n",
       "    }\n",
       "\n",
       "    .dataframe tbody tr th {\n",
       "        vertical-align: top;\n",
       "    }\n",
       "\n",
       "    .dataframe thead th {\n",
       "        text-align: right;\n",
       "    }\n",
       "</style>\n",
       "<table border=\"1\" class=\"dataframe\">\n",
       "  <thead>\n",
       "    <tr style=\"text-align: right;\">\n",
       "      <th></th>\n",
       "      <th>Course Name</th>\n",
       "      <th>Difficulty Level</th>\n",
       "      <th>Course Description</th>\n",
       "      <th>Skills</th>\n",
       "      <th>tags</th>\n",
       "    </tr>\n",
       "  </thead>\n",
       "  <tbody>\n",
       "    <tr>\n",
       "      <th>0</th>\n",
       "      <td>Write,A,Feature,Length,Screenplay,For,Film,Or,...</td>\n",
       "      <td>Beginner</td>\n",
       "      <td>Write,a,Full,Length,Feature,Film,Script,In,thi...</td>\n",
       "      <td>Drama  Comedy  peering  screenwriting  film  D...</td>\n",
       "      <td>Write,A,Feature,Length,Screenplay,For,Film,Or,...</td>\n",
       "    </tr>\n",
       "    <tr>\n",
       "      <th>1</th>\n",
       "      <td>Business,Strategy,Business,Model,Canvas,Analys...</td>\n",
       "      <td>Beginner</td>\n",
       "      <td>By,the,end,of,this,guided,project,you,will,be,...</td>\n",
       "      <td>Finance  business plan  persona user experienc...</td>\n",
       "      <td>Business,Strategy,Business,Model,Canvas,Analys...</td>\n",
       "    </tr>\n",
       "    <tr>\n",
       "      <th>2</th>\n",
       "      <td>Silicon,Thin,Film,Solar,Cells</td>\n",
       "      <td>Advanced</td>\n",
       "      <td>This,course,consists,of,a,general,presentation...</td>\n",
       "      <td>chemistry  physics  Solar Energy  film  lambda...</td>\n",
       "      <td>Silicon,Thin,Film,Solar,CellsAdvancedThis,cour...</td>\n",
       "    </tr>\n",
       "    <tr>\n",
       "      <th>3</th>\n",
       "      <td>Finance,for,Managers</td>\n",
       "      <td>Intermediate</td>\n",
       "      <td>When,it,comes,to,numbers,there,is,always,more,...</td>\n",
       "      <td>accounts receivable  dupont analysis  analysis...</td>\n",
       "      <td>Finance,for,ManagersIntermediateWhen,it,comes,...</td>\n",
       "    </tr>\n",
       "    <tr>\n",
       "      <th>4</th>\n",
       "      <td>Retrieve,Data,using,Single-Table,SQL,Queries</td>\n",
       "      <td>Beginner</td>\n",
       "      <td>In,this,course,you�ll,learn,how,to,effectively...</td>\n",
       "      <td>Data Analysis  select sql  database management...</td>\n",
       "      <td>Retrieve,Data,using,Single-Table,SQL,QueriesBe...</td>\n",
       "    </tr>\n",
       "  </tbody>\n",
       "</table>\n",
       "</div>"
      ],
      "text/plain": [
       "                                         Course Name Difficulty Level  \\\n",
       "0  Write,A,Feature,Length,Screenplay,For,Film,Or,...         Beginner   \n",
       "1  Business,Strategy,Business,Model,Canvas,Analys...         Beginner   \n",
       "2                      Silicon,Thin,Film,Solar,Cells         Advanced   \n",
       "3                               Finance,for,Managers     Intermediate   \n",
       "4       Retrieve,Data,using,Single-Table,SQL,Queries         Beginner   \n",
       "\n",
       "                                  Course Description  \\\n",
       "0  Write,a,Full,Length,Feature,Film,Script,In,thi...   \n",
       "1  By,the,end,of,this,guided,project,you,will,be,...   \n",
       "2  This,course,consists,of,a,general,presentation...   \n",
       "3  When,it,comes,to,numbers,there,is,always,more,...   \n",
       "4  In,this,course,you�ll,learn,how,to,effectively...   \n",
       "\n",
       "                                              Skills  \\\n",
       "0  Drama  Comedy  peering  screenwriting  film  D...   \n",
       "1  Finance  business plan  persona user experienc...   \n",
       "2  chemistry  physics  Solar Energy  film  lambda...   \n",
       "3  accounts receivable  dupont analysis  analysis...   \n",
       "4  Data Analysis  select sql  database management...   \n",
       "\n",
       "                                                tags  \n",
       "0  Write,A,Feature,Length,Screenplay,For,Film,Or,...  \n",
       "1  Business,Strategy,Business,Model,Canvas,Analys...  \n",
       "2  Silicon,Thin,Film,Solar,CellsAdvancedThis,cour...  \n",
       "3  Finance,for,ManagersIntermediateWhen,it,comes,...  \n",
       "4  Retrieve,Data,using,Single-Table,SQL,QueriesBe...  "
      ]
     },
     "execution_count": 12,
     "metadata": {},
     "output_type": "execute_result"
    }
   ],
   "source": [
    "df.head()"
   ]
  },
  {
   "cell_type": "code",
   "execution_count": 13,
   "metadata": {},
   "outputs": [
    {
     "data": {
      "text/plain": [
       "'Business,Strategy,Business,Model,Canvas,Analysis,with,MiroBeginnerBy,the,end,of,this,guided,project,you,will,be,fluent,in,identifying,and,creating,Business,Model,Canvas,solutions,based,on,previous,high-level,analyses,and,research,data.,This,will,enable,you,to,identify,and,map,the,elements,required,for,new,products,and,services.,Furthermore,it,is,essential,for,generating,positive,results,for,your,business,venture.,This,guided,project,is,designed,to,engage,and,harness,your,visionary,and,exploratory,abilities.,You,will,use,proven,models,in,strategy,and,product,development,with,the,Miro,platform,to,explore,and,analyse,your,business,propositions.,,We,will,practice,critically,examining,results,from,previous,analysis,and,research,results,in,deriving,the,values,for,each,of,the,business,model,sections.Finance  business plan  persona user experience  business model canvas  Planning  Business  project  Product Development  presentation  Strategy business business-strategy'"
      ]
     },
     "execution_count": 13,
     "metadata": {},
     "output_type": "execute_result"
    }
   ],
   "source": [
    "df['tags'].iloc[1]"
   ]
  },
  {
   "cell_type": "code",
   "execution_count": 14,
   "metadata": {},
   "outputs": [],
   "source": [
    "df = df[['Course Name','tags']]"
   ]
  },
  {
   "cell_type": "code",
   "execution_count": 15,
   "metadata": {},
   "outputs": [
    {
     "data": {
      "text/html": [
       "<div>\n",
       "<style scoped>\n",
       "    .dataframe tbody tr th:only-of-type {\n",
       "        vertical-align: middle;\n",
       "    }\n",
       "\n",
       "    .dataframe tbody tr th {\n",
       "        vertical-align: top;\n",
       "    }\n",
       "\n",
       "    .dataframe thead th {\n",
       "        text-align: right;\n",
       "    }\n",
       "</style>\n",
       "<table border=\"1\" class=\"dataframe\">\n",
       "  <thead>\n",
       "    <tr style=\"text-align: right;\">\n",
       "      <th></th>\n",
       "      <th>Course Name</th>\n",
       "      <th>tags</th>\n",
       "    </tr>\n",
       "  </thead>\n",
       "  <tbody>\n",
       "    <tr>\n",
       "      <th>0</th>\n",
       "      <td>Write,A,Feature,Length,Screenplay,For,Film,Or,...</td>\n",
       "      <td>Write,A,Feature,Length,Screenplay,For,Film,Or,...</td>\n",
       "    </tr>\n",
       "    <tr>\n",
       "      <th>1</th>\n",
       "      <td>Business,Strategy,Business,Model,Canvas,Analys...</td>\n",
       "      <td>Business,Strategy,Business,Model,Canvas,Analys...</td>\n",
       "    </tr>\n",
       "    <tr>\n",
       "      <th>2</th>\n",
       "      <td>Silicon,Thin,Film,Solar,Cells</td>\n",
       "      <td>Silicon,Thin,Film,Solar,CellsAdvancedThis,cour...</td>\n",
       "    </tr>\n",
       "    <tr>\n",
       "      <th>3</th>\n",
       "      <td>Finance,for,Managers</td>\n",
       "      <td>Finance,for,ManagersIntermediateWhen,it,comes,...</td>\n",
       "    </tr>\n",
       "    <tr>\n",
       "      <th>4</th>\n",
       "      <td>Retrieve,Data,using,Single-Table,SQL,Queries</td>\n",
       "      <td>Retrieve,Data,using,Single-Table,SQL,QueriesBe...</td>\n",
       "    </tr>\n",
       "  </tbody>\n",
       "</table>\n",
       "</div>"
      ],
      "text/plain": [
       "                                         Course Name  \\\n",
       "0  Write,A,Feature,Length,Screenplay,For,Film,Or,...   \n",
       "1  Business,Strategy,Business,Model,Canvas,Analys...   \n",
       "2                      Silicon,Thin,Film,Solar,Cells   \n",
       "3                               Finance,for,Managers   \n",
       "4       Retrieve,Data,using,Single-Table,SQL,Queries   \n",
       "\n",
       "                                                tags  \n",
       "0  Write,A,Feature,Length,Screenplay,For,Film,Or,...  \n",
       "1  Business,Strategy,Business,Model,Canvas,Analys...  \n",
       "2  Silicon,Thin,Film,Solar,CellsAdvancedThis,cour...  \n",
       "3  Finance,for,ManagersIntermediateWhen,it,comes,...  \n",
       "4  Retrieve,Data,using,Single-Table,SQL,QueriesBe...  "
      ]
     },
     "execution_count": 15,
     "metadata": {},
     "output_type": "execute_result"
    }
   ],
   "source": [
    "df.head()"
   ]
  },
  {
   "cell_type": "code",
   "execution_count": 16,
   "metadata": {},
   "outputs": [],
   "source": [
    "df['tags'] = df['tags'].str.replace(',',' ')"
   ]
  },
  {
   "cell_type": "code",
   "execution_count": 17,
   "metadata": {},
   "outputs": [],
   "source": [
    "df['Course Name'] = df['Course Name'].str.replace(',',' ')"
   ]
  },
  {
   "cell_type": "code",
   "execution_count": 18,
   "metadata": {},
   "outputs": [],
   "source": [
    "df.rename(columns = {'Course Name':'course_name'}, inplace = True)"
   ]
  },
  {
   "cell_type": "code",
   "execution_count": 19,
   "metadata": {},
   "outputs": [],
   "source": [
    "df['tags'] = df['tags'].apply(lambda x:x.lower()) #lower casing the tags column"
   ]
  },
  {
   "cell_type": "code",
   "execution_count": 20,
   "metadata": {},
   "outputs": [
    {
     "data": {
      "text/html": [
       "<div>\n",
       "<style scoped>\n",
       "    .dataframe tbody tr th:only-of-type {\n",
       "        vertical-align: middle;\n",
       "    }\n",
       "\n",
       "    .dataframe tbody tr th {\n",
       "        vertical-align: top;\n",
       "    }\n",
       "\n",
       "    .dataframe thead th {\n",
       "        text-align: right;\n",
       "    }\n",
       "</style>\n",
       "<table border=\"1\" class=\"dataframe\">\n",
       "  <thead>\n",
       "    <tr style=\"text-align: right;\">\n",
       "      <th></th>\n",
       "      <th>course_name</th>\n",
       "      <th>tags</th>\n",
       "    </tr>\n",
       "  </thead>\n",
       "  <tbody>\n",
       "    <tr>\n",
       "      <th>0</th>\n",
       "      <td>Write A Feature Length Screenplay For Film Or ...</td>\n",
       "      <td>write a feature length screenplay for film or ...</td>\n",
       "    </tr>\n",
       "    <tr>\n",
       "      <th>1</th>\n",
       "      <td>Business Strategy Business Model Canvas Analys...</td>\n",
       "      <td>business strategy business model canvas analys...</td>\n",
       "    </tr>\n",
       "    <tr>\n",
       "      <th>2</th>\n",
       "      <td>Silicon Thin Film Solar Cells</td>\n",
       "      <td>silicon thin film solar cellsadvancedthis cour...</td>\n",
       "    </tr>\n",
       "    <tr>\n",
       "      <th>3</th>\n",
       "      <td>Finance for Managers</td>\n",
       "      <td>finance for managersintermediatewhen it comes ...</td>\n",
       "    </tr>\n",
       "    <tr>\n",
       "      <th>4</th>\n",
       "      <td>Retrieve Data using Single-Table SQL Queries</td>\n",
       "      <td>retrieve data using single-table sql queriesbe...</td>\n",
       "    </tr>\n",
       "  </tbody>\n",
       "</table>\n",
       "</div>"
      ],
      "text/plain": [
       "                                         course_name  \\\n",
       "0  Write A Feature Length Screenplay For Film Or ...   \n",
       "1  Business Strategy Business Model Canvas Analys...   \n",
       "2                      Silicon Thin Film Solar Cells   \n",
       "3                               Finance for Managers   \n",
       "4       Retrieve Data using Single-Table SQL Queries   \n",
       "\n",
       "                                                tags  \n",
       "0  write a feature length screenplay for film or ...  \n",
       "1  business strategy business model canvas analys...  \n",
       "2  silicon thin film solar cellsadvancedthis cour...  \n",
       "3  finance for managersintermediatewhen it comes ...  \n",
       "4  retrieve data using single-table sql queriesbe...  "
      ]
     },
     "execution_count": 20,
     "metadata": {},
     "output_type": "execute_result"
    }
   ],
   "source": [
    "df.head(5)"
   ]
  },
  {
   "cell_type": "code",
   "execution_count": 21,
   "metadata": {},
   "outputs": [
    {
     "data": {
      "text/plain": [
       "(3522, 2)"
      ]
     },
     "execution_count": 21,
     "metadata": {},
     "output_type": "execute_result"
    }
   ],
   "source": [
    "df.shape"
   ]
  },
  {
   "cell_type": "markdown",
   "metadata": {},
   "source": [
    "# Using NLP to build Recommeder "
   ]
  },
  {
   "cell_type": "code",
   "execution_count": 22,
   "metadata": {},
   "outputs": [],
   "source": [
    "cv = CountVectorizer(max_features=5000,stop_words='english')"
   ]
  },
  {
   "cell_type": "code",
   "execution_count": 23,
   "metadata": {},
   "outputs": [],
   "source": [
    "vectors = cv.fit_transform(df['tags']).toarray()"
   ]
  },
  {
   "cell_type": "code",
   "execution_count": 24,
   "metadata": {},
   "outputs": [
    {
     "data": {
      "text/plain": [
       "array([[0, 0, 0, ..., 0, 0, 0],\n",
       "       [0, 0, 0, ..., 0, 0, 0],\n",
       "       [0, 0, 0, ..., 0, 0, 0],\n",
       "       ...,\n",
       "       [0, 0, 0, ..., 0, 0, 0],\n",
       "       [0, 0, 0, ..., 0, 0, 0],\n",
       "       [0, 0, 0, ..., 0, 0, 0]], dtype=int64)"
      ]
     },
     "execution_count": 24,
     "metadata": {},
     "output_type": "execute_result"
    }
   ],
   "source": [
    "vectors"
   ]
  },
  {
   "cell_type": "code",
   "execution_count": 25,
   "metadata": {},
   "outputs": [],
   "source": [
    "ps = PorterStemmer()"
   ]
  },
  {
   "cell_type": "code",
   "execution_count": 26,
   "metadata": {},
   "outputs": [],
   "source": [
    "def stem(text):\n",
    "    y=[]\n",
    "    \n",
    "    for i in text.split():\n",
    "        y.append(ps.stem(i))\n",
    "    \n",
    "    return \" \".join(y)"
   ]
  },
  {
   "cell_type": "code",
   "execution_count": 27,
   "metadata": {},
   "outputs": [],
   "source": [
    "df['tags'] = df['tags'].apply(stem)"
   ]
  },
  {
   "cell_type": "code",
   "execution_count": 28,
   "metadata": {},
   "outputs": [],
   "source": [
    "similarity = cosine_similarity(vectors)"
   ]
  },
  {
   "cell_type": "code",
   "execution_count": 29,
   "metadata": {},
   "outputs": [],
   "source": [
    "def recommend(course):\n",
    "    course_index = df[df['course_name'] == course].index[0]\n",
    "    distances = similarity[course_index]\n",
    "    course_list = sorted(list(enumerate(distances)),reverse=True, key=lambda x:x[1])[1:7]\n",
    "    \n",
    "    for i in course_list:\n",
    "        print(df.iloc[i[0]].course_name)"
   ]
  },
  {
   "cell_type": "code",
   "execution_count": 30,
   "metadata": {},
   "outputs": [
    {
     "name": "stdout",
     "output_type": "stream",
     "text": [
      "Product Development Customer Persona Development with Miro\n",
      "Product and Service Development Empathy Mapping with Miro\n",
      "Product Development Customer Journey Mapping with Miro\n",
      "Analyzing Macro-Environmental Factors Using Creately\n",
      "Business Strategy in Practice (Project-centered Course)\n",
      "Innovating with the Business Model Canvas\n"
     ]
    }
   ],
   "source": [
    "recommend('Business Strategy Business Model Canvas Analysis with Miro') "
   ]
  },
  {
   "cell_type": "markdown",
   "metadata": {},
   "source": [
    "### Exporting Model"
   ]
  },
  {
   "cell_type": "code",
   "execution_count": 31,
   "metadata": {},
   "outputs": [],
   "source": [
    "pickle.dump(similarity,open('content_sim.pkl','wb'))\n",
    "pickle.dump(df.to_dict(),open('content_list.pkl','wb')) #contains the dataframe in dict \n",
    "pickle.dump(df,open('content.pkl','wb'))"
   ]
  },
  {
   "cell_type": "code",
   "execution_count": null,
   "metadata": {},
   "outputs": [],
   "source": []
  }
 ],
 "metadata": {
  "kernelspec": {
   "display_name": "Python 3 (ipykernel)",
   "language": "python",
   "name": "python3"
  },
  "language_info": {
   "codemirror_mode": {
    "name": "ipython",
    "version": 3
   },
   "file_extension": ".py",
   "mimetype": "text/x-python",
   "name": "python",
   "nbconvert_exporter": "python",
   "pygments_lexer": "ipython3",
   "version": "3.11.4"
  }
 },
 "nbformat": 4,
 "nbformat_minor": 4
}
